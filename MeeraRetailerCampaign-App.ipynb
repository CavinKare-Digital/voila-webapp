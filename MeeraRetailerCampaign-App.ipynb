{
 "cells": [
  {
   "cell_type": "markdown",
   "metadata": {},
   "source": [
    "<h1><center>Meera Retailer Campaign - Random Pick</center></h1>"
   ]
  },
  {
   "cell_type": "markdown",
   "metadata": {},
   "source": [
    "## Objective\n",
    "* Choose random retailers satisfying certain criteria providing weights based on the purchasing ability of retailers\n",
    "* Choose the number of random retailers based on the weightage of number of retailers under each AM"
   ]
  },
  {
   "cell_type": "code",
   "execution_count": null,
   "metadata": {},
   "outputs": [],
   "source": [
    "from ckpackages import azsql \n",
    "import numpy as np\n",
    "import pandas as pd\n",
    "import random\n",
    "import os\n",
    "from glob3 import glob"
   ]
  },
  {
   "cell_type": "code",
   "execution_count": 3,
   "metadata": {},
   "outputs": [],
   "source": [
    "import ipywidgets as widgets\n",
    "from IPython.display import display, clear_output\n",
    "from ipywidgets import Button, Output, VBox,interactive,interact"
   ]
  },
  {
   "cell_type": "code",
   "execution_count": 6,
   "metadata": {},
   "outputs": [
    {
     "ename": "AttributeError",
     "evalue": "'function' object has no attribute 'glob'",
     "output_type": "error",
     "traceback": [
      "\u001b[1;31m---------------------------------------------------------------------------\u001b[0m",
      "\u001b[1;31mAttributeError\u001b[0m                            Traceback (most recent call last)",
      "\u001b[1;32m<ipython-input-6-1c74e4c8061b>\u001b[0m in \u001b[0;36m<module>\u001b[1;34m\u001b[0m\n\u001b[0;32m      2\u001b[0m \u001b[0ma\u001b[0m \u001b[1;33m=\u001b[0m \u001b[0mos\u001b[0m\u001b[1;33m.\u001b[0m\u001b[0mgetcwd\u001b[0m\u001b[1;33m(\u001b[0m\u001b[1;33m)\u001b[0m\u001b[1;33m\u001b[0m\u001b[1;33m\u001b[0m\u001b[0m\n\u001b[0;32m      3\u001b[0m \u001b[0mpath\u001b[0m \u001b[1;33m=\u001b[0m \u001b[0ma\u001b[0m \u001b[1;33m+\u001b[0m \u001b[1;34m'\\\\Outputs_csv'\u001b[0m\u001b[1;33m\u001b[0m\u001b[1;33m\u001b[0m\u001b[0m\n\u001b[1;32m----> 4\u001b[1;33m \u001b[0mall_files\u001b[0m \u001b[1;33m=\u001b[0m \u001b[0mglob\u001b[0m\u001b[1;33m.\u001b[0m\u001b[0mglob\u001b[0m\u001b[1;33m(\u001b[0m\u001b[0mpath\u001b[0m \u001b[1;33m+\u001b[0m \u001b[1;34m\"/*.csv\"\u001b[0m\u001b[1;33m)\u001b[0m\u001b[1;33m\u001b[0m\u001b[1;33m\u001b[0m\u001b[0m\n\u001b[0m\u001b[0;32m      5\u001b[0m \u001b[1;33m\u001b[0m\u001b[0m\n\u001b[0;32m      6\u001b[0m \u001b[0mli\u001b[0m \u001b[1;33m=\u001b[0m \u001b[1;33m[\u001b[0m\u001b[1;33m]\u001b[0m\u001b[1;33m\u001b[0m\u001b[1;33m\u001b[0m\u001b[0m\n",
      "\u001b[1;31mAttributeError\u001b[0m: 'function' object has no attribute 'glob'"
     ]
    }
   ],
   "source": [
    "## Read & join csv in same folder\n",
    "a = os.getcwd()\n",
    "path = a + '\\\\Outputs_csv'\n",
    "all_files = glob.glob(path + \"/*.csv\")\n",
    "\n",
    "li = []\n",
    "\n",
    "for filename in all_files:\n",
    "    df = pd.read_csv(filename, index_col=None, header=0)\n",
    "    li.append(df)\n",
    "df_concat = pd.concat(li, axis=0, ignore_index=True)\n",
    "\n",
    "# Convert InvDate to Date format\n",
    "df_concat['InvDate'] = pd.to_datetime(df_concat['InvDate'])\n",
    "\n",
    "## Filter data by instances occuring in last week\n",
    "days=6 #Last 6 days from current date\n",
    "cutoff_date = df_concat['InvDate'].max() - pd.Timedelta(days=days)\n",
    "print(cutoff_date)\n",
    "\n",
    "df1_concat = df_concat[df_concat['InvDate'] > cutoff_date]\n",
    "\n",
    "# List of last 6 days unique retailers\n",
    "rtr_last6days = df1_concat[['RtrCode','RtrName']].drop_duplicates()\n",
    "rtr_last6days = rtr_last6days['RtrCode'].tolist()\n",
    "\n",
    "# Filter retailer occuring in last 6 days (to be included below)\n",
    "#data_filtered = data[~data.RtrCode.isin(rtr_last6days)]"
   ]
  },
  {
   "cell_type": "code",
   "execution_count": 98,
   "metadata": {},
   "outputs": [
    {
     "name": "stdout",
     "output_type": "stream",
     "text": [
      "Choose number of Lots\n"
     ]
    },
    {
     "data": {
      "application/vnd.jupyter.widget-view+json": {
       "model_id": "906120ce90b24af9af3148e97713a726",
       "version_major": 2,
       "version_minor": 0
      },
      "text/plain": [
       "interactive(children=(IntSlider(value=42, description='Lots', max=75, min=10), Output()), _dom_classes=('widge…"
      ]
     },
     "metadata": {},
     "output_type": "display_data"
    },
    {
     "data": {
      "application/vnd.jupyter.widget-view+json": {
       "model_id": "0863f3e557f642378cb00133d0efb323",
       "version_major": 2,
       "version_minor": 0
      },
      "text/plain": [
       "VBox(children=(Button(description='Pick', style=ButtonStyle()), Output()))"
      ]
     },
     "metadata": {},
     "output_type": "display_data"
    }
   ],
   "source": [
    "## Import data\n",
    "Query = 'select * from v_PC_MeeraRetailerCampaign' \n",
    "data = azsql.callstatement(Query)\n",
    "\n",
    "# Data only for Latest date\n",
    "data = data[data['InvDate'] == data['InvDate'].max()]\n",
    "\n",
    "## Remove null - Retailers without AM\n",
    "# Consider Data with AMName ( remove nulls)\n",
    "data = data[data['AMName'].notnull()]\n",
    "\n",
    "# Filter retailer occuring in last 6 days\n",
    "#data = data[~data.RtrCode.isin(rtr_last6days)]\n",
    "\n",
    "InvDate =  data['InvDate'].iloc[0]\n",
    "InvDate = str(InvDate)[0:10]\n",
    "\n",
    "## Retailer master\n",
    "rtr_master = data[['RtrCode','RtrName','DistName','RtrGroupCde','InvDate','PolypouchCount']].drop_duplicates()\n",
    "rtr_master['PolypouchCount'] = rtr_master['PolypouchCount'].astype(int)\n",
    "\n",
    "AM_RTR_in = data.groupby('AMName')['RtrCode'].count().reset_index()\n",
    "\n",
    "# Create text widget for output\n",
    "output_slider_variable = widgets.Text()\n",
    "\n",
    "# Define function to bind value of the input to the output variable \n",
    "def f(Lots):\n",
    "    output_slider_variable.value = str(Lots)\n",
    "\n",
    "print('Choose number of Lots')\n",
    "# Create input slider with default value = 10  \n",
    "interact(f, Lots=(10, 75, 1))\n",
    "\n",
    "def picks(output_slider_variable,data):\n",
    "    # Create and output new int variable with value of slider\n",
    "    new_variable = int(output_slider_variable.value)\n",
    "\n",
    "    ## Choose number of retailers to choose\n",
    "    ## Weightage for AM\n",
    "    # Percentage of Retailers across AM-Wise\n",
    "    TotalRtrCount = data['RtrCode'].count()\n",
    "    AM_RTR_WGT = data.groupby('AMName')['RtrCode'].count().reset_index()\n",
    "    AM_RTR_WGT['WGT%'] = np.ceil(AM_RTR_WGT['RtrCode']/TotalRtrCount * new_variable)\n",
    "\n",
    "    ## Split dataframe on AM's\n",
    "    # Select required rows\n",
    "    data1 = data[['ZM','AMName','RtrCode','RtrName','TotalQty','PolypouchCount']]\n",
    "    data2 = [rows for _, rows in data1.groupby('AMName')]\n",
    "    return data2,AM_RTR_WGT\n",
    "    \n",
    "## Function to generate random Rtr's with AM weightage\n",
    "def randomRtrAmWise(i):\n",
    "    data3,AM_RTR_WGT = picks(output_slider_variable,data)\n",
    "    # Retailer name\n",
    "    a = data3[i]['RtrCode'].tolist()\n",
    "\n",
    "    # Polypouch count as weight\n",
    "    ppc = data3[i]['PolypouchCount'].tolist() \n",
    "\n",
    "    c=int(AM_RTR_WGT['WGT%'][i])\n",
    "    #random.shuffle(a)\n",
    "    l = random.choices(a, weights=ppc, k=c)\n",
    "    l.sort()\n",
    "    df_R = pd.DataFrame(l,columns = ['RtrCode'])\n",
    "    df_R['AMName'] = AM_RTR_WGT['AMName'][i]\n",
    "    return df_R\n",
    "    \n",
    "def randompick(AM_RTR_in):\n",
    "    df_RtrRP = pd.DataFrame()\n",
    "    for j in range(len( AM_RTR_in.index.tolist())):\n",
    "        df = randomRtrAmWise(j)\n",
    "        df_RtrRP = df_RtrRP.append(df)\n",
    "    return df_RtrRP\n",
    "\n",
    "def randompickAM(rtr_master,AM_RTR_in,InvDate):\n",
    "    result = randompick(AM_RTR_in)\n",
    "    result = result.merge(rtr_master,on='RtrCode')\n",
    "    result = result.groupby('RtrCode').head(2).reset_index(drop=True) # Keep 1st two instances of duplicates\n",
    "    index = result.index\n",
    "    number_of_rows = len(index)\n",
    "    print('Count of picked retailers: ',number_of_rows)\n",
    "    display(result)\n",
    "    return result,InvDate\n",
    "    \n",
    "button = Button(description='Pick')\n",
    "out = Output()\n",
    "\n",
    "def on_click(_):\n",
    "    with out:\n",
    "        clear_output(True)\n",
    "        dr,InvDate1 = randompickAM(rtr_master,AM_RTR_in,InvDate)\n",
    "        # Save results\n",
    "        root = 'Intermediate_csv' \n",
    "        sheet = 'results_' + InvDate1 + '.csv' \n",
    "        file_name = os.path.join(root,sheet)\n",
    "        print(file_name)\n",
    "        dr.to_csv(file_name,index=False)\n",
    "        \n",
    "button.on_click(on_click)\n",
    "VBox([button,out])"
   ]
  }
 ],
 "metadata": {
  "kernelspec": {
   "display_name": "Python 3",
   "language": "python",
   "name": "python3"
  }
 },
 "nbformat": 4,
 "nbformat_minor": 4
}
